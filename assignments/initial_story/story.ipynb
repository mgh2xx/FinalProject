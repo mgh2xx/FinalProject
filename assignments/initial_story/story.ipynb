{
 "cells": [
  {
   "cell_type": "markdown",
   "id": "07ac4d63",
   "metadata": {},
   "source": [
    "link to google doc \n",
    "\n",
    "https://docs.google.com/document/d/1teFlPzxyAztQLKV6uxIpEQ_ziuYXYLFUaOcEs9tWC8w/edit?usp=sharing"
   ]
  }
 ],
 "metadata": {
  "language_info": {
   "name": "python"
  }
 },
 "nbformat": 4,
 "nbformat_minor": 5
}
